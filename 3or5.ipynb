{
 "cells": [
  {
   "cell_type": "code",
   "execution_count": 7,
   "metadata": {},
   "outputs": [
    {
     "name": "stdout",
     "output_type": "stream",
     "text": [
      "3\n",
      "6\n",
      "9\n"
     ]
    }
   ],
   "source": [
    "for i in range(3 ,10 ,3):\n",
    "    print(i)"
   ]
  },
  {
   "cell_type": "code",
   "execution_count": 8,
   "metadata": {},
   "outputs": [
    {
     "name": "stdout",
     "output_type": "stream",
     "text": [
      "5\n"
     ]
    }
   ],
   "source": [
    "for i in range (5 ,10 ,5):\n",
    "    print(i)"
   ]
  },
  {
   "cell_type": "code",
   "execution_count": 10,
   "metadata": {},
   "outputs": [
    {
     "name": "stdout",
     "output_type": "stream",
     "text": [
      "3 6 9 12 15 18 21 24 27 30 33 36 39 42 45 48 51 54 57 60 63 66 69 72 75 78 81 84 87 90 93 96 99 102 105 108 111 114 117 120 123 126 129 132 135 138 141 144 147 150 153 156 159 162 165 168 171 174 177 180 183 186 189 192 195 198 201 204 207 210 213 216 219 222 225 228 231 234 237 240 243 246 249 252 255 258 261 264 267 270 273 276 279 282 285 288 291 294 297 300 303 306 309 312 315 318 321 324 327 330 333 336 339 342 345 348 351 354 357 360 363 366 369 372 375 378 381 384 387 390 393 396 399 402 405 408 411 414 417 420 423 426 429 432 435 438 441 444 447 450 453 456 459 462 465 468 471 474 477 480 483 486 489 492 495 498 501 504 507 510 513 516 519 522 525 528 531 534 537 540 543 546 549 552 555 558 561 564 567 570 573 576 579 582 585 588 591 594 597 600 603 606 609 612 615 618 621 624 627 630 633 636 639 642 645 648 651 654 657 660 663 666 669 672 675 678 681 684 687 690 693 696 699 702 705 708 711 714 717 720 723 726 729 732 735 738 741 744 747 750 753 756 759 762 765 768 771 774 777 780 783 786 789 792 795 798 801 804 807 810 813 816 819 822 825 828 831 834 837 840 843 846 849 852 855 858 861 864 867 870 873 876 879 882 885 888 891 894 897 900 903 906 909 912 915 918 921 924 927 930 933 936 939 942 945 948 951 954 957 960 963 966 969 972 975 978 981 984 987 990 993 996 999 "
     ]
    }
   ],
   "source": [
    "for i in range (3, 1000, 3):\n",
    "    print(i, end=' ')"
   ]
  },
  {
   "cell_type": "code",
   "execution_count": 11,
   "metadata": {},
   "outputs": [
    {
     "name": "stdout",
     "output_type": "stream",
     "text": [
      "5 10 15 20 25 30 35 40 45 50 55 60 65 70 75 80 85 90 95 100 105 110 115 120 125 130 135 140 145 150 155 160 165 170 175 180 185 190 195 200 205 210 215 220 225 230 235 240 245 250 255 260 265 270 275 280 285 290 295 300 305 310 315 320 325 330 335 340 345 350 355 360 365 370 375 380 385 390 395 400 405 410 415 420 425 430 435 440 445 450 455 460 465 470 475 480 485 490 495 500 505 510 515 520 525 530 535 540 545 550 555 560 565 570 575 580 585 590 595 600 605 610 615 620 625 630 635 640 645 650 655 660 665 670 675 680 685 690 695 700 705 710 715 720 725 730 735 740 745 750 755 760 765 770 775 780 785 790 795 800 805 810 815 820 825 830 835 840 845 850 855 860 865 870 875 880 885 890 895 900 905 910 915 920 925 930 935 940 945 950 955 960 965 970 975 980 985 990 995 "
     ]
    }
   ],
   "source": [
    "for i in range (5, 1000, 5):\n",
    "    print(i, end=' ')"
   ]
  },
  {
   "cell_type": "code",
   "execution_count": 14,
   "metadata": {},
   "outputs": [
    {
     "name": "stdout",
     "output_type": "stream",
     "text": [
      "1 2 3 4 5 6 7 8 9 10 "
     ]
    }
   ],
   "source": [
    "i = 0\n",
    "while i < 10:\n",
    "    i += 1\n",
    "    print(i, end=' ')"
   ]
  },
  {
   "cell_type": "code",
   "execution_count": 17,
   "metadata": {},
   "outputs": [
    {
     "name": "stdout",
     "output_type": "stream",
     "text": [
      "i: 3, j: 20          i: 6, j: 30          i: 9, j: 40          i: 12, j: 50          i: 15, j: 60          i: 18, j: 70          i: 21, j: 80          i: 24, j: 90          i: 27, j: 100          "
     ]
    }
   ],
   "source": [
    "i = 0\n",
    "j = 10\n",
    "\n",
    "while i < 100 and j < 100:\n",
    "    i += 3\n",
    "    j += 10\n",
    "\n",
    "    print(f'i: {i}, j: {j}', end=' ' * 10)"
   ]
  },
  {
   "cell_type": "code",
   "execution_count": 1,
   "metadata": {},
   "outputs": [
    {
     "name": "stdout",
     "output_type": "stream",
     "text": [
      "0 -- 17 -- 34 -- 51 -- 68 -- 85 -- 102 -- 119 -- 136 -- 153 -- 170 -- 187 -- 204 -- 221 -- 238 -- 255 -- 272 -- 289 -- 306 -- 323 -- 340 -- 357 -- 374 -- 391 -- 408 -- 425 -- 442 -- 459 -- 476 -- 493 -- 510 -- 527 -- 544 -- 561 -- 578 -- 595 -- 612 -- 629 -- 646 -- 663 -- 680 -- 697 -- 714 -- 731 -- 748 -- 765 -- 782 -- 799 -- 816 -- 833 -- 850 -- 867 -- 884 -- 901 -- 918 -- 935 -- 952 -- 969 -- 986 -- "
     ]
    },
    {
     "data": {
      "text/plain": [
       "29087"
      ]
     },
     "execution_count": 1,
     "metadata": {},
     "output_type": "execute_result"
    }
   ],
   "source": [
    "sum_ = 0\n",
    "\n",
    "for i in range(0, 1000, 17):\n",
    "    sum_ = sum_ + i\n",
    "    print(i, end=' -- ')\n",
    "\n",
    "sum_"
   ]
  },
  {
   "cell_type": "code",
   "execution_count": 20,
   "metadata": {},
   "outputs": [
    {
     "data": {
      "text/plain": [
       "44"
      ]
     },
     "execution_count": 20,
     "metadata": {},
     "output_type": "execute_result"
    }
   ],
   "source": [
    "sum([10, 11, 12, 11])"
   ]
  },
  {
   "cell_type": "code",
   "execution_count": 4,
   "metadata": {},
   "outputs": [
    {
     "name": "stdout",
     "output_type": "stream",
     "text": [
      "0 -- 17 -- 34 -- 51 -- 68 -- 85 -- 102 -- 119 -- 136 -- 153 -- 170 -- 187 -- 204 -- 221 -- 238 -- 255 -- 272 -- 289 -- 306 -- 323 -- 340 -- 357 -- 374 -- 391 -- 408 -- 425 -- 442 -- 459 -- 476 -- 493 -- 510 -- 527 -- 544 -- 561 -- 578 -- 595 -- 612 -- 629 -- 646 -- 663 -- 680 -- 697 -- 714 -- 731 -- 748 -- 765 -- 782 -- 799 -- 816 -- 833 -- 850 -- 867 -- 884 -- 901 -- 918 -- 935 -- 952 -- 969 -- 986 -- "
     ]
    },
    {
     "data": {
      "text/plain": [
       "29087"
      ]
     },
     "execution_count": 4,
     "metadata": {},
     "output_type": "execute_result"
    }
   ],
   "source": [
    "sm = 0\n",
    "for i in range(1000 // 17 + 1):\n",
    "    sm += i * 17\n",
    "    print(i * 17, end=' -- ')\n",
    "sm"
   ]
  },
  {
   "cell_type": "code",
   "execution_count": 6,
   "metadata": {},
   "outputs": [
    {
     "name": "stdout",
     "output_type": "stream",
     "text": [
      "0\n",
      "1 not divisible by 2\n",
      "2\n",
      "3 not divisible by 2\n",
      "4\n",
      "5 not divisible by 2\n",
      "6\n",
      "7 not divisible by 2\n",
      "8\n",
      "9 not divisible by 2\n",
      "10\n",
      "11 not divisible by 2\n",
      "12\n",
      "13 not divisible by 2\n",
      "14\n",
      "15 not divisible by 2\n",
      "16\n",
      "17 not divisible by 2\n",
      "18\n",
      "19 not divisible by 2\n",
      "20\n",
      "21 not divisible by 2\n",
      "22\n",
      "23 not divisible by 2\n",
      "24\n",
      "25 not divisible by 2\n",
      "26\n",
      "27 not divisible by 2\n",
      "28\n",
      "29 not divisible by 2\n",
      "30\n",
      "31 not divisible by 2\n",
      "32\n",
      "33 not divisible by 2\n",
      "34\n",
      "35 not divisible by 2\n",
      "36\n",
      "37 not divisible by 2\n",
      "38\n",
      "39 not divisible by 2\n",
      "40\n",
      "41 not divisible by 2\n",
      "42\n",
      "43 not divisible by 2\n",
      "44\n",
      "45 not divisible by 2\n",
      "46\n",
      "47 not divisible by 2\n",
      "48\n",
      "49 not divisible by 2\n",
      "50\n",
      "51 not divisible by 2\n",
      "52\n",
      "53 not divisible by 2\n",
      "54\n",
      "55 not divisible by 2\n",
      "56\n",
      "57 not divisible by 2\n",
      "58\n",
      "59 not divisible by 2\n",
      "60\n",
      "61 not divisible by 2\n",
      "62\n",
      "63 not divisible by 2\n",
      "64\n",
      "65 not divisible by 2\n",
      "66\n",
      "67 not divisible by 2\n",
      "68\n",
      "69 not divisible by 2\n",
      "70\n",
      "71 not divisible by 2\n",
      "72\n",
      "73 not divisible by 2\n",
      "74\n",
      "75 not divisible by 2\n",
      "76\n",
      "77 not divisible by 2\n",
      "78\n",
      "79 not divisible by 2\n",
      "80\n",
      "81 not divisible by 2\n",
      "82\n",
      "83 not divisible by 2\n",
      "84\n",
      "85 not divisible by 2\n",
      "86\n",
      "87 not divisible by 2\n",
      "88\n",
      "89 not divisible by 2\n",
      "90\n",
      "91 not divisible by 2\n",
      "92\n",
      "93 not divisible by 2\n",
      "94\n",
      "95 not divisible by 2\n",
      "96\n",
      "97 not divisible by 2\n",
      "98\n",
      "99 not divisible by 2\n"
     ]
    }
   ],
   "source": [
    "for i in range(100):\n",
    "    a = i // 2\n",
    "    b = i / 2\n",
    "\n",
    "    if a != b:\n",
    "        print(f'{i} not divisible by 2')\n",
    "    else:\n",
    "        print(i)\n"
   ]
  },
  {
   "cell_type": "code",
   "execution_count": 8,
   "metadata": {},
   "outputs": [
    {
     "name": "stdout",
     "output_type": "stream",
     "text": [
      "0 is divible by 3\n",
      "1 is a strange number\n",
      "2 is a strange number\n",
      "3 is divible by 3\n",
      "4 is a strange number\n",
      "5 is divisible by 5\n",
      "6 is divible by 3\n",
      "7 is a strange number\n",
      "8 is a strange number\n",
      "9 is divible by 3\n",
      "10 is divisible by 5\n",
      "11 is a strange number\n",
      "12 is divible by 3\n",
      "13 is a strange number\n",
      "14 is a strange number\n",
      "15 is divible by 3\n",
      "16 is a strange number\n",
      "17 is a strange number\n",
      "18 is divible by 3\n",
      "19 is a strange number\n",
      "20 is divisible by 5\n",
      "21 is divible by 3\n",
      "22 is a strange number\n",
      "23 is a strange number\n",
      "24 is divible by 3\n",
      "25 is divisible by 5\n",
      "26 is a strange number\n",
      "27 is divible by 3\n",
      "28 is a strange number\n",
      "29 is a strange number\n",
      "30 is divible by 3\n",
      "31 is a strange number\n",
      "32 is a strange number\n",
      "33 is divible by 3\n",
      "34 is a strange number\n",
      "35 is divisible by 5\n",
      "36 is divible by 3\n",
      "37 is a strange number\n",
      "38 is a strange number\n",
      "39 is divible by 3\n",
      "40 is divisible by 5\n",
      "41 is a strange number\n",
      "42 is divible by 3\n",
      "43 is a strange number\n",
      "44 is a strange number\n",
      "45 is divible by 3\n",
      "46 is a strange number\n",
      "47 is a strange number\n",
      "48 is divible by 3\n",
      "49 is a strange number\n"
     ]
    }
   ],
   "source": [
    "for i in range(50):\n",
    "    if i % 3 == 0:\n",
    "        print(f'{i} is divible by 3')\n",
    "    elif i % 5 == 0:\n",
    "        print(f'{i} is divisible by 5')\n",
    "    elif i % 3 == 0 and i % 5 == 0:\n",
    "        pass\n",
    "    else:\n",
    "        print(f'{i} is a strange number')"
   ]
  },
  {
   "cell_type": "code",
   "execution_count": 10,
   "metadata": {},
   "outputs": [],
   "source": [
    "for i in range(10):\n",
    "    pass\n"
   ]
  },
  {
   "cell_type": "code",
   "execution_count": 18,
   "metadata": {},
   "outputs": [
    {
     "name": "stdout",
     "output_type": "stream",
     "text": [
      "5 -- 10 -- 15 -- 20 -- 25 -- 30 -- 35 -- 40 -- 45 -- 50 -- 55 -- 60 -- 65 -- 70 -- 75 -- 80 -- 85 -- 90 -- 95 -- 100 -- 105 -- 110 -- 115 -- 120 -- 125 -- 130 -- 135 -- 140 -- 145 -- 150 -- 155 -- 160 -- 165 -- 170 -- 175 -- 180 -- 185 -- 190 -- 195 -- 200 -- 205 -- 210 -- 215 -- 220 -- 225 -- 230 -- 235 -- 240 -- 245 -- 250 -- 255 -- 260 -- 265 -- 270 -- 275 -- 280 -- 285 -- 290 -- 295 -- 300 -- 305 -- 310 -- 315 -- 320 -- 325 -- 330 -- 335 -- 340 -- 345 -- 350 -- 355 -- 360 -- 365 -- 370 -- 375 -- 380 -- 385 -- 390 -- 395 -- 400 -- 405 -- 410 -- 415 -- 420 -- 425 -- 430 -- 435 -- 440 -- 445 -- 450 -- 455 -- 460 -- 465 -- 470 -- 475 -- 480 -- 485 -- 490 -- 495 -- 500 -- 505 -- 510 -- 515 -- 520 -- 525 -- 530 -- 535 -- 540 -- 545 -- 550 -- 555 -- 560 -- 565 -- 570 -- 575 -- 580 -- 585 -- 590 -- 595 -- 600 -- 605 -- 610 -- 615 -- 620 -- 625 -- 630 -- 635 -- 640 -- 645 -- 650 -- 655 -- 660 -- 665 -- 670 -- 675 -- 680 -- 685 -- 690 -- 695 -- 700 -- 705 -- 710 -- 715 -- 720 -- 725 -- 730 -- 735 -- 740 -- 745 -- 750 -- 755 -- 760 -- 765 -- 770 -- 775 -- 780 -- 785 -- 790 -- 795 -- 800 -- 805 -- 810 -- 815 -- 820 -- 825 -- 830 -- 835 -- 840 -- 845 -- 850 -- 855 -- 860 -- 865 -- 870 -- 875 -- 880 -- 885 -- 890 -- 895 -- 900 -- 905 -- 910 -- 915 -- 920 -- 925 -- 930 -- 935 -- 940 -- 945 -- 950 -- 955 -- 960 -- 965 -- 970 -- 975 -- 980 -- 985 -- 990 -- 995 -- "
     ]
    },
    {
     "data": {
      "text/plain": [
       "99500"
      ]
     },
     "execution_count": 18,
     "metadata": {},
     "output_type": "execute_result"
    }
   ],
   "source": [
    "sum_ = 0\n",
    "\n",
    "for i in range(5, 1000, 5):\n",
    "    sum_ = sum_ + i\n",
    "    print(i, end=' -- ')\n",
    "\n",
    "sum_"
   ]
  },
  {
   "cell_type": "code",
   "execution_count": 19,
   "metadata": {},
   "outputs": [
    {
     "name": "stdout",
     "output_type": "stream",
     "text": [
      "3 -- 6 -- 9 -- 12 -- 15 -- 18 -- 21 -- 24 -- 27 -- 30 -- 33 -- 36 -- 39 -- 42 -- 45 -- 48 -- 51 -- 54 -- 57 -- 60 -- 63 -- 66 -- 69 -- 72 -- 75 -- 78 -- 81 -- 84 -- 87 -- 90 -- 93 -- 96 -- 99 -- 102 -- 105 -- 108 -- 111 -- 114 -- 117 -- 120 -- 123 -- 126 -- 129 -- 132 -- 135 -- 138 -- 141 -- 144 -- 147 -- 150 -- 153 -- 156 -- 159 -- 162 -- 165 -- 168 -- 171 -- 174 -- 177 -- 180 -- 183 -- 186 -- 189 -- 192 -- 195 -- 198 -- 201 -- 204 -- 207 -- 210 -- 213 -- 216 -- 219 -- 222 -- 225 -- 228 -- 231 -- 234 -- 237 -- 240 -- 243 -- 246 -- 249 -- 252 -- 255 -- 258 -- 261 -- 264 -- 267 -- 270 -- 273 -- 276 -- 279 -- 282 -- 285 -- 288 -- 291 -- 294 -- 297 -- 300 -- 303 -- 306 -- 309 -- 312 -- 315 -- 318 -- 321 -- 324 -- 327 -- 330 -- 333 -- 336 -- 339 -- 342 -- 345 -- 348 -- 351 -- 354 -- 357 -- 360 -- 363 -- 366 -- 369 -- 372 -- 375 -- 378 -- 381 -- 384 -- 387 -- 390 -- 393 -- 396 -- 399 -- 402 -- 405 -- 408 -- 411 -- 414 -- 417 -- 420 -- 423 -- 426 -- 429 -- 432 -- 435 -- 438 -- 441 -- 444 -- 447 -- 450 -- 453 -- 456 -- 459 -- 462 -- 465 -- 468 -- 471 -- 474 -- 477 -- 480 -- 483 -- 486 -- 489 -- 492 -- 495 -- 498 -- 501 -- 504 -- 507 -- 510 -- 513 -- 516 -- 519 -- 522 -- 525 -- 528 -- 531 -- 534 -- 537 -- 540 -- 543 -- 546 -- 549 -- 552 -- 555 -- 558 -- 561 -- 564 -- 567 -- 570 -- 573 -- 576 -- 579 -- 582 -- 585 -- 588 -- 591 -- 594 -- 597 -- 600 -- 603 -- 606 -- 609 -- 612 -- 615 -- 618 -- 621 -- 624 -- 627 -- 630 -- 633 -- 636 -- 639 -- 642 -- 645 -- 648 -- 651 -- 654 -- 657 -- 660 -- 663 -- 666 -- 669 -- 672 -- 675 -- 678 -- 681 -- 684 -- 687 -- 690 -- 693 -- 696 -- 699 -- 702 -- 705 -- 708 -- 711 -- 714 -- 717 -- 720 -- 723 -- 726 -- 729 -- 732 -- 735 -- 738 -- 741 -- 744 -- 747 -- 750 -- 753 -- 756 -- 759 -- 762 -- 765 -- 768 -- 771 -- 774 -- 777 -- 780 -- 783 -- 786 -- 789 -- 792 -- 795 -- 798 -- 801 -- 804 -- 807 -- 810 -- 813 -- 816 -- 819 -- 822 -- 825 -- 828 -- 831 -- 834 -- 837 -- 840 -- 843 -- 846 -- 849 -- 852 -- 855 -- 858 -- 861 -- 864 -- 867 -- 870 -- 873 -- 876 -- 879 -- 882 -- 885 -- 888 -- 891 -- 894 -- 897 -- 900 -- 903 -- 906 -- 909 -- 912 -- 915 -- 918 -- 921 -- 924 -- 927 -- 930 -- 933 -- 936 -- 939 -- 942 -- 945 -- 948 -- 951 -- 954 -- 957 -- 960 -- 963 -- 966 -- 969 -- 972 -- 975 -- 978 -- 981 -- 984 -- 987 -- 990 -- 993 -- 996 -- 999 -- "
     ]
    },
    {
     "data": {
      "text/plain": [
       "166833"
      ]
     },
     "execution_count": 19,
     "metadata": {},
     "output_type": "execute_result"
    }
   ],
   "source": [
    "sum_ = 0\n",
    "\n",
    "for i in range(3, 1000, 3):\n",
    "    sum_ = sum_ + i\n",
    "    print(i, end=' -- ')\n",
    "\n",
    "sum_"
   ]
  },
  {
   "cell_type": "code",
   "execution_count": 20,
   "metadata": {},
   "outputs": [
    {
     "data": {
      "text/plain": [
       "266333"
      ]
     },
     "execution_count": 20,
     "metadata": {},
     "output_type": "execute_result"
    }
   ],
   "source": [
    "sum([99500, 166833])"
   ]
  },
  {
   "cell_type": "code",
   "execution_count": 21,
   "metadata": {},
   "outputs": [
    {
     "name": "stdout",
     "output_type": "stream",
     "text": [
      "15 -- 30 -- 45 -- 60 -- 75 -- 90 -- 105 -- 120 -- 135 -- 150 -- 165 -- 180 -- 195 -- 210 -- 225 -- 240 -- 255 -- 270 -- 285 -- 300 -- 315 -- 330 -- 345 -- 360 -- 375 -- 390 -- 405 -- 420 -- 435 -- 450 -- 465 -- 480 -- 495 -- 510 -- 525 -- 540 -- 555 -- 570 -- 585 -- 600 -- 615 -- 630 -- 645 -- 660 -- 675 -- 690 -- 705 -- 720 -- 735 -- 750 -- 765 -- 780 -- 795 -- 810 -- 825 -- 840 -- 855 -- 870 -- 885 -- 900 -- 915 -- 930 -- 945 -- 960 -- 975 -- 990 -- "
     ]
    },
    {
     "data": {
      "text/plain": [
       "33165"
      ]
     },
     "execution_count": 21,
     "metadata": {},
     "output_type": "execute_result"
    }
   ],
   "source": [
    "sum_ = 0\n",
    "\n",
    "for i in range(15, 1000, 15):\n",
    "    sum_ = sum_ + i\n",
    "    print(i, end=' -- ')\n",
    "\n",
    "sum_"
   ]
  },
  {
   "cell_type": "code",
   "execution_count": 24,
   "metadata": {},
   "outputs": [
    {
     "data": {
      "text/plain": [
       "233168"
      ]
     },
     "execution_count": 24,
     "metadata": {},
     "output_type": "execute_result"
    }
   ],
   "source": [
    "sm = 0\n",
    "for i in range(1, 1000):\n",
    "    if i % 3 == 0:\n",
    "        sm += i\n",
    "    elif i % 5 == 0:\n",
    "        sm += i\n",
    "sm"
   ]
  },
  {
   "cell_type": "code",
   "execution_count": null,
   "metadata": {},
   "outputs": [],
   "source": []
  }
 ],
 "metadata": {
  "kernelspec": {
   "display_name": "base",
   "language": "python",
   "name": "python3"
  },
  "language_info": {
   "codemirror_mode": {
    "name": "ipython",
    "version": 3
   },
   "file_extension": ".py",
   "mimetype": "text/x-python",
   "name": "python",
   "nbconvert_exporter": "python",
   "pygments_lexer": "ipython3",
   "version": "3.9.13"
  },
  "orig_nbformat": 4,
  "vscode": {
   "interpreter": {
    "hash": "5f99ac4c663024f2f5f20d6e9a515c27494e41f1970045df222728868400d47e"
   }
  }
 },
 "nbformat": 4,
 "nbformat_minor": 2
}
